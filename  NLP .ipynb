{
 "cells": [
  {
   "cell_type": "code",
   "execution_count": 1,
   "id": "84241b20",
   "metadata": {},
   "outputs": [],
   "source": [
    "import nltk \n"
   ]
  },
  {
   "cell_type": "code",
   "execution_count": 2,
   "id": "a18117a1",
   "metadata": {},
   "outputs": [
    {
     "name": "stdout",
     "output_type": "stream",
     "text": [
      "showing info https://raw.githubusercontent.com/nltk/nltk_data/gh-pages/index.xml\n"
     ]
    },
    {
     "data": {
      "text/plain": [
       "True"
      ]
     },
     "execution_count": 2,
     "metadata": {},
     "output_type": "execute_result"
    }
   ],
   "source": [
    "nltk.download()"
   ]
  },
  {
   "cell_type": "code",
   "execution_count": 3,
   "id": "8d914a4b",
   "metadata": {},
   "outputs": [
    {
     "data": {
      "text/plain": [
       "'The boy is good. The girl is good. The boy and girl both are good.'"
      ]
     },
     "execution_count": 3,
     "metadata": {},
     "output_type": "execute_result"
    }
   ],
   "source": [
    "# Step-1 : Understanding Business Problem \n",
    "\n",
    "\n",
    "# Step-2 : Data(Text) Understanding\n",
    "\n",
    "paragraph = 'The boy is good. The girl is good. The boy and girl both are good.'\n",
    "paragraph"
   ]
  },
  {
   "cell_type": "code",
   "execution_count": 4,
   "id": "56f79c37",
   "metadata": {},
   "outputs": [
    {
     "data": {
      "text/plain": [
       "['The boy is good.', 'The girl is good.', 'The boy and girl both are good.']"
      ]
     },
     "execution_count": 4,
     "metadata": {},
     "output_type": "execute_result"
    }
   ],
   "source": [
    "# Step-3 : Data(Text) Preprocessing\n",
    "\n",
    "# 1) Text Tokenization : Spliting the text(paragraph/corpus) into many parts\n",
    "\n",
    "# a) Sentence Tokenization : Spliting the text into the sentences\n",
    "sentences = nltk.sent_tokenize(paragraph)  # It will split the paragraph into the many sentences\n",
    "sentences"
   ]
  },
  {
   "cell_type": "code",
   "execution_count": 5,
   "id": "ef56361f",
   "metadata": {},
   "outputs": [
    {
     "data": {
      "text/plain": [
       "['The',\n",
       " 'boy',\n",
       " 'is',\n",
       " 'good',\n",
       " '.',\n",
       " 'The',\n",
       " 'girl',\n",
       " 'is',\n",
       " 'good',\n",
       " '.',\n",
       " 'The',\n",
       " 'boy',\n",
       " 'and',\n",
       " 'girl',\n",
       " 'both',\n",
       " 'are',\n",
       " 'good',\n",
       " '.']"
      ]
     },
     "execution_count": 5,
     "metadata": {},
     "output_type": "execute_result"
    }
   ],
   "source": [
    "# b) Word Tokenization : Spliting the text into the words\n",
    "words = nltk.word_tokenize(paragraph)     # It will split the paragraph into the many words\n",
    "words "
   ]
  },
  {
   "cell_type": "code",
   "execution_count": 6,
   "id": "a1bae4d6",
   "metadata": {},
   "outputs": [
    {
     "name": "stdout",
     "output_type": "stream",
     "text": [
      "['The boy is good ', 'The girl is good ', 'The boy and girl both are good ']\n"
     ]
    }
   ],
   "source": [
    "# 2) Text Cleaning : Remove the non-important text from the sentence like Removing punctuations from the sentence except the \"space\", Remove StopWords,Stemming or Lemmatization.\n",
    "\n",
    "# a) Remove Punctuations : Removing punctuations from the sentence except the \"space\".\n",
    "\n",
    "import re\n",
    "\n",
    "corpus = []\n",
    "for i in range(len(sentences)) : \n",
    "    rp = re.sub('[^a-zA-Z0-9]',\" \",sentences[i])    # It will remove(substract) the all punctuations from the sentence except the 'space'.\n",
    "    corpus.append(rp)                               # It will the append the remaining i th sentence without punctuations in list corpus \n",
    "    \n",
    "print(corpus)\n"
   ]
  },
  {
   "cell_type": "code",
   "execution_count": 7,
   "id": "bca91bee",
   "metadata": {},
   "outputs": [
    {
     "data": {
      "text/plain": [
       "['i',\n",
       " 'me',\n",
       " 'my',\n",
       " 'myself',\n",
       " 'we',\n",
       " 'our',\n",
       " 'ours',\n",
       " 'ourselves',\n",
       " 'you',\n",
       " \"you're\",\n",
       " \"you've\",\n",
       " \"you'll\",\n",
       " \"you'd\",\n",
       " 'your',\n",
       " 'yours',\n",
       " 'yourself',\n",
       " 'yourselves',\n",
       " 'he',\n",
       " 'him',\n",
       " 'his',\n",
       " 'himself',\n",
       " 'she',\n",
       " \"she's\",\n",
       " 'her',\n",
       " 'hers',\n",
       " 'herself',\n",
       " 'it',\n",
       " \"it's\",\n",
       " 'its',\n",
       " 'itself',\n",
       " 'they',\n",
       " 'them',\n",
       " 'their',\n",
       " 'theirs',\n",
       " 'themselves',\n",
       " 'what',\n",
       " 'which',\n",
       " 'who',\n",
       " 'whom',\n",
       " 'this',\n",
       " 'that',\n",
       " \"that'll\",\n",
       " 'these',\n",
       " 'those',\n",
       " 'am',\n",
       " 'is',\n",
       " 'are',\n",
       " 'was',\n",
       " 'were',\n",
       " 'be',\n",
       " 'been',\n",
       " 'being',\n",
       " 'have',\n",
       " 'has',\n",
       " 'had',\n",
       " 'having',\n",
       " 'do',\n",
       " 'does',\n",
       " 'did',\n",
       " 'doing',\n",
       " 'a',\n",
       " 'an',\n",
       " 'the',\n",
       " 'and',\n",
       " 'but',\n",
       " 'if',\n",
       " 'or',\n",
       " 'because',\n",
       " 'as',\n",
       " 'until',\n",
       " 'while',\n",
       " 'of',\n",
       " 'at',\n",
       " 'by',\n",
       " 'for',\n",
       " 'with',\n",
       " 'about',\n",
       " 'against',\n",
       " 'between',\n",
       " 'into',\n",
       " 'through',\n",
       " 'during',\n",
       " 'before',\n",
       " 'after',\n",
       " 'above',\n",
       " 'below',\n",
       " 'to',\n",
       " 'from',\n",
       " 'up',\n",
       " 'down',\n",
       " 'in',\n",
       " 'out',\n",
       " 'on',\n",
       " 'off',\n",
       " 'over',\n",
       " 'under',\n",
       " 'again',\n",
       " 'further',\n",
       " 'then',\n",
       " 'once',\n",
       " 'here',\n",
       " 'there',\n",
       " 'when',\n",
       " 'where',\n",
       " 'why',\n",
       " 'how',\n",
       " 'all',\n",
       " 'any',\n",
       " 'both',\n",
       " 'each',\n",
       " 'few',\n",
       " 'more',\n",
       " 'most',\n",
       " 'other',\n",
       " 'some',\n",
       " 'such',\n",
       " 'no',\n",
       " 'nor',\n",
       " 'not',\n",
       " 'only',\n",
       " 'own',\n",
       " 'same',\n",
       " 'so',\n",
       " 'than',\n",
       " 'too',\n",
       " 'very',\n",
       " 's',\n",
       " 't',\n",
       " 'can',\n",
       " 'will',\n",
       " 'just',\n",
       " 'don',\n",
       " \"don't\",\n",
       " 'should',\n",
       " \"should've\",\n",
       " 'now',\n",
       " 'd',\n",
       " 'll',\n",
       " 'm',\n",
       " 'o',\n",
       " 're',\n",
       " 've',\n",
       " 'y',\n",
       " 'ain',\n",
       " 'aren',\n",
       " \"aren't\",\n",
       " 'couldn',\n",
       " \"couldn't\",\n",
       " 'didn',\n",
       " \"didn't\",\n",
       " 'doesn',\n",
       " \"doesn't\",\n",
       " 'hadn',\n",
       " \"hadn't\",\n",
       " 'hasn',\n",
       " \"hasn't\",\n",
       " 'haven',\n",
       " \"haven't\",\n",
       " 'isn',\n",
       " \"isn't\",\n",
       " 'ma',\n",
       " 'mightn',\n",
       " \"mightn't\",\n",
       " 'mustn',\n",
       " \"mustn't\",\n",
       " 'needn',\n",
       " \"needn't\",\n",
       " 'shan',\n",
       " \"shan't\",\n",
       " 'shouldn',\n",
       " \"shouldn't\",\n",
       " 'wasn',\n",
       " \"wasn't\",\n",
       " 'weren',\n",
       " \"weren't\",\n",
       " 'won',\n",
       " \"won't\",\n",
       " 'wouldn',\n",
       " \"wouldn't\"]"
      ]
     },
     "execution_count": 7,
     "metadata": {},
     "output_type": "execute_result"
    }
   ],
   "source": [
    "# list of the stopwords in English for NLP\n",
    "\n",
    "from nltk.corpus import stopwords\n",
    "stopwords.words(\"English\")   # It will give the stopwords in English Language for the NLP"
   ]
  },
  {
   "cell_type": "code",
   "execution_count": 8,
   "id": "ad050f65",
   "metadata": {},
   "outputs": [
    {
     "data": {
      "text/plain": [
       "['boy good', 'girl good', 'boy girl good']"
      ]
     },
     "execution_count": 8,
     "metadata": {},
     "output_type": "execute_result"
    }
   ],
   "source": [
    "# b) Remove StopWords : By removing the words from the sentence meaning not changing or not get affected then that words are StopWords.\n",
    "                        # We should Remove the stopwords which are not important in the sentence meaning, which will reduce the complexity of model identification.\n",
    "\n",
    "corpus = []\n",
    "for i in range(len(sentences)) :\n",
    "    rp = re.sub('[^a-zA-Z0-9]',\" \",sentences[i])   # It will remove(substract) the all punctuations from the sentence except the 'space'.\n",
    "    rp = rp.lower()                                # It will make all words from sentence in lower case\n",
    "    rp = rp.split()                                # It will split the sentence into the seperate words. \n",
    "    rp = [word for word in rp if not word in set(stopwords.words('english'))]   # It will check is there any stopwords are in the sentence,if there it will remove that stopwords from the sentence.\n",
    "    rp = \" \".join(rp)                              # It will join(combine) all the remaining words of a sentence together which are splited above, by adding space between them.\n",
    "    corpus.append(rp)\n",
    "corpus"
   ]
  },
  {
   "cell_type": "code",
   "execution_count": 10,
   "id": "338f6b7d",
   "metadata": {},
   "outputs": [
    {
     "data": {
      "text/plain": [
       "'beauti'"
      ]
     },
     "execution_count": 10,
     "metadata": {},
     "output_type": "execute_result"
    }
   ],
   "source": [
    "# c) Stemming or Lemmatization : Stemming or Lammetization used to cut the word to its base word.\n",
    "\n",
    "# Stemming : It cut the word into its base word which may or may not be have any meaning from dictionary.\n",
    "\n",
    "from nltk.stem import PorterStemmer\n",
    "ps = PorterStemmer()                 \n",
    "ps.stem('Beautiful')"
   ]
  },
  {
   "cell_type": "code",
   "execution_count": 14,
   "id": "09285008",
   "metadata": {},
   "outputs": [
    {
     "data": {
      "text/plain": [
       "'Beautiful'"
      ]
     },
     "execution_count": 14,
     "metadata": {},
     "output_type": "execute_result"
    }
   ],
   "source": [
    "# Lemmatization : It cut the word into its base word which definately have some meaning from dictionary.\n",
    "\n",
    "from nltk.stem import WordNetLemmatizer\n",
    "wnl = WordNetLemmatizer()\n",
    "wnl.lemmatize('Beautiful')"
   ]
  },
  {
   "cell_type": "code",
   "execution_count": 15,
   "id": "f0fd526f",
   "metadata": {},
   "outputs": [
    {
     "data": {
      "text/plain": [
       "['boy good', 'girl good', 'boy girl good']"
      ]
     },
     "execution_count": 15,
     "metadata": {},
     "output_type": "execute_result"
    }
   ],
   "source": [
    "# Removing stopwords again, because if any stopword is created by doing stemming or Lemmatization.\n",
    "\n",
    "corpus = []\n",
    "for i in range(len(sentences)) :\n",
    "    rp = re.sub('[^a-zA-Z0-9]',\" \",sentences[i])\n",
    "    rp = rp.lower()\n",
    "    rp = rp.split()\n",
    "    rp = [word for word in rp if not word in set(stopwords.words('english'))]\n",
    "    rp = \" \".join(rp)\n",
    "    corpus.append(rp)\n",
    "corpus"
   ]
  },
  {
   "cell_type": "code",
   "execution_count": 21,
   "id": "1de91e0d",
   "metadata": {},
   "outputs": [
    {
     "data": {
      "text/plain": [
       "<3x3 sparse matrix of type '<class 'numpy.int64'>'\n",
       "\twith 7 stored elements in Compressed Sparse Row format>"
      ]
     },
     "execution_count": 21,
     "metadata": {},
     "output_type": "execute_result"
    }
   ],
   "source": [
    "# 3) Text Vectorization : It will covert the text words into the numerical formate(i.e. in 0's & 1's like dummy encoding) by ceating vector(matrix) for senteces.\n",
    "\n",
    "# a) Count Vectorization : It will covert the text words into the numerical formate(i.e. in 0's & 1's like dummy encoding) by creating vector(matrix) for senteces.\n",
    "                        # It will give the count of each word from sentence in matrix formate(means it will give check how many times a word is there in sentence for each unique word.)\n",
    "from sklearn.feature_extraction.text import CountVectorizer\n",
    "cv = CountVectorizer()\n",
    "cv.fit_transform(corpus)"
   ]
  },
  {
   "cell_type": "code",
   "execution_count": 23,
   "id": "5d57791f",
   "metadata": {},
   "outputs": [
    {
     "data": {
      "text/plain": [
       "array([[1, 0, 1],\n",
       "       [0, 1, 1],\n",
       "       [1, 1, 1]], dtype=int64)"
      ]
     },
     "execution_count": 23,
     "metadata": {},
     "output_type": "execute_result"
    }
   ],
   "source": [
    "bow = cv.fit_transform(corpus).toarray()\n",
    "bow"
   ]
  },
  {
   "cell_type": "code",
   "execution_count": 25,
   "id": "f127940a",
   "metadata": {},
   "outputs": [
    {
     "data": {
      "text/plain": [
       "<3x3 sparse matrix of type '<class 'numpy.float64'>'\n",
       "\twith 7 stored elements in Compressed Sparse Row format>"
      ]
     },
     "execution_count": 25,
     "metadata": {},
     "output_type": "execute_result"
    }
   ],
   "source": [
    "# b) TF-IDF Vectorization :  It will covert the text words into the numerical formate by creating vector(matrix) for senteces.\n",
    "                        # It will give the importance value of each word from sentence in matrix formate(means it will give check how many times a word is there in sentence for each unique word and depending on that it will consider the importnace of that word.)\n",
    "    \n",
    "from sklearn.feature_extraction.text import TfidfVectorizer\n",
    "tfidfv = TfidfVectorizer()\n",
    "tfidfv.fit_transform(corpus)"
   ]
  },
  {
   "cell_type": "code",
   "execution_count": 27,
   "id": "087a948d",
   "metadata": {},
   "outputs": [
    {
     "data": {
      "text/plain": [
       "array([[0.78980693, 0.        , 0.61335554],\n",
       "       [0.        , 0.78980693, 0.61335554],\n",
       "       [0.61980538, 0.61980538, 0.48133417]])"
      ]
     },
     "execution_count": 27,
     "metadata": {},
     "output_type": "execute_result"
    }
   ],
   "source": [
    "tfidf = tfidfv.fit_transform(corpus).toarray()\n",
    "tfidf"
   ]
  },
  {
   "cell_type": "code",
   "execution_count": 28,
   "id": "15b4409f",
   "metadata": {},
   "outputs": [
    {
     "data": {
      "text/plain": [
       "['I', 'love', 'natural', 'language', 'processing']"
      ]
     },
     "execution_count": 28,
     "metadata": {},
     "output_type": "execute_result"
    }
   ],
   "source": [
    "text = \" I love natural language processing\"\n",
    "words = nltk.word_tokenize(text)\n",
    "words"
   ]
  },
  {
   "cell_type": "code",
   "execution_count": 29,
   "id": "4137d00c",
   "metadata": {},
   "outputs": [
    {
     "data": {
      "text/plain": [
       "[('I', 'PRP'),\n",
       " ('love', 'VBP'),\n",
       " ('natural', 'JJ'),\n",
       " ('language', 'NN'),\n",
       " ('processing', 'NN')]"
      ]
     },
     "execution_count": 29,
     "metadata": {},
     "output_type": "execute_result"
    }
   ],
   "source": [
    "nltk.pos_tag(words)   # It will gives the splited words are which type(form) like Noun, Pronoun, Adjective, Adverb,... etc."
   ]
  },
  {
   "cell_type": "code",
   "execution_count": 34,
   "id": "9e0c9f0f",
   "metadata": {},
   "outputs": [
    {
     "name": "stdout",
     "output_type": "stream",
     "text": [
      "PRP: pronoun, personal\n",
      "    hers herself him himself hisself it itself me myself one oneself ours\n",
      "    ourselves ownself self she thee theirs them themselves they thou thy us\n",
      "VBP: verb, present tense, not 3rd person singular\n",
      "    predominate wrap resort sue twist spill cure lengthen brush terminate\n",
      "    appear tend stray glisten obtain comprise detest tease attract\n",
      "    emphasize mold postpone sever return wag ...\n",
      "JJ: adjective or numeral, ordinal\n",
      "    third ill-mannered pre-war regrettable oiled calamitous first separable\n",
      "    ectoplasmic battery-powered participatory fourth still-to-be-named\n",
      "    multilingual multi-disciplinary ...\n",
      "NN: noun, common, singular or mass\n",
      "    common-carrier cabbage knuckle-duster Casino afghan shed thermostat\n",
      "    investment slide humour falloff slick wind hyena override subhumanity\n",
      "    machinist ...\n"
     ]
    }
   ],
   "source": [
    "nltk.help.upenn_tagset(\"PRP\")\n",
    "nltk.help.upenn_tagset(\"VBP\")\n",
    "nltk.help.upenn_tagset(\"JJ\")\n",
    "nltk.help.upenn_tagset(\"NN\")"
   ]
  },
  {
   "cell_type": "code",
   "execution_count": null,
   "id": "0753a6e2",
   "metadata": {},
   "outputs": [],
   "source": []
  },
  {
   "cell_type": "code",
   "execution_count": null,
   "id": "3170a0a6",
   "metadata": {},
   "outputs": [],
   "source": []
  }
 ],
 "metadata": {
  "kernelspec": {
   "display_name": "Python 3 (ipykernel)",
   "language": "python",
   "name": "python3"
  },
  "language_info": {
   "codemirror_mode": {
    "name": "ipython",
    "version": 3
   },
   "file_extension": ".py",
   "mimetype": "text/x-python",
   "name": "python",
   "nbconvert_exporter": "python",
   "pygments_lexer": "ipython3",
   "version": "3.11.5"
  }
 },
 "nbformat": 4,
 "nbformat_minor": 5
}
